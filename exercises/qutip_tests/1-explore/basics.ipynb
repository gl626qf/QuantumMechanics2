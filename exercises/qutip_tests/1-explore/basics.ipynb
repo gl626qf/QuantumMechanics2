{
 "cells": [
  {
   "cell_type": "code",
   "execution_count": 1,
   "metadata": {},
   "outputs": [
    {
     "ename": "ModuleNotFoundError",
     "evalue": "No module named 'qutip'",
     "output_type": "error",
     "traceback": [
      "\u001b[1;31m---------------------------------------------------------------------------\u001b[0m",
      "\u001b[1;31mModuleNotFoundError\u001b[0m                       Traceback (most recent call last)",
      "Cell \u001b[1;32mIn[1], line 1\u001b[0m\n\u001b[1;32m----> 1\u001b[0m \u001b[39mimport\u001b[39;00m \u001b[39mqutip\u001b[39;00m\n\u001b[0;32m      2\u001b[0m \u001b[39mfrom\u001b[39;00m \u001b[39mqutip\u001b[39;00m\u001b[39m.\u001b[39;00m\u001b[39mstates\u001b[39;00m \u001b[39mimport\u001b[39;00m coherent\n\u001b[0;32m      3\u001b[0m \u001b[39mimport\u001b[39;00m \u001b[39msys\u001b[39;00m\n",
      "\u001b[1;31mModuleNotFoundError\u001b[0m: No module named 'qutip'"
     ]
    }
   ],
   "source": [
    "import qutip\n",
    "from qutip.states import coherent\n",
    "import sys\n",
    "sys.path.append('../..')  # Add the parent directory of your project to the path\n",
    "\n"
   ]
  },
  {
   "cell_type": "code",
   "execution_count": 2,
   "metadata": {},
   "outputs": [
    {
     "name": "stdout",
     "output_type": "stream",
     "text": [
      "Quantum object: dims = [[1], [1]], shape = (1, 1), type = bra\n",
      "Qobj data =\n",
      "[[1.]]\n"
     ]
    }
   ],
   "source": [
    "#Create a coherent state |alpha=1>\n",
    "alpha = 1\n",
    "psi = coherent(1, alpha)\n",
    "print(psi)\n"
   ]
  },
  {
   "cell_type": "code",
   "execution_count": null,
   "metadata": {},
   "outputs": [],
   "source": []
  },
  {
   "cell_type": "code",
   "execution_count": 3,
   "metadata": {},
   "outputs": [],
   "source": [
    "import numpy as np\n",
    "from qutip import mesolve, destroy, basis\n",
    "\n",
    "# Parameters\n",
    "omega = 1.0   # oscillator frequency\n",
    "n_levels = 10 # number of Fock states to simulate\n",
    "t = np.linspace(0, 10, 1000) # time vector\n",
    "H = omega * destroy(n_levels).dag() * destroy(n_levels)\n",
    "\n",
    "# Initial state |0>\n",
    "psi0 = basis(n_levels, 0)\n",
    "\n",
    "# Time evolution\n",
    "result = mesolve(H, psi0, t, [], [destroy(n_levels).dag() * destroy(n_levels)])\n"
   ]
  },
  {
   "cell_type": "code",
   "execution_count": 4,
   "metadata": {},
   "outputs": [],
   "source": [
    "# import scipy.linalg as la\n",
    "\n",
    "# def random_square_matrix(n):\n",
    "#     return np.random.rand(n, n) + 1j * np.random.rand(n, n)\n",
    "\n",
    "# def random_hermitian_matrix(n):\n",
    "#     return random_square_matrix(n) + random_square_matrix(n).conj().T\n",
    "\n",
    "# def random_unitary_matrix(n):\n",
    "#     return la.expm(1j * random_hermitian_matrix(n))\n",
    "\n",
    "# def random_matrix_rektangular(m, n):\n",
    "#     return np.random.rand(m, n) + 1j * np.random.rand(m, n)\n",
    "\n",
    "\n",
    "\n"
   ]
  },
  {
   "cell_type": "code",
   "execution_count": 10,
   "metadata": {},
   "outputs": [],
   "source": [
    "# import sys\n",
    "# sys.path.append('../../../scripts')  # Add the 'scripts' directory to the path\n",
    "\n",
    "# from matrix_utils import random_unitary_matrix"
   ]
  },
  {
   "cell_type": "code",
   "execution_count": 11,
   "metadata": {},
   "outputs": [
    {
     "data": {
      "text/plain": [
       "array([[-0.09240355+0.5564746j , -0.18599133+0.63210648j],\n",
       "       [-0.51810216+0.91261447j,  0.04984652+0.4500949j ]])"
      ]
     },
     "execution_count": 11,
     "metadata": {},
     "output_type": "execute_result"
    }
   ],
   "source": [
    "random_unitary_matrix(2)"
   ]
  },
  {
   "cell_type": "code",
   "execution_count": 18,
   "metadata": {},
   "outputs": [
    {
     "ename": "ModuleNotFoundError",
     "evalue": "No module named 'utils'",
     "output_type": "error",
     "traceback": [
      "\u001b[1;31m---------------------------------------------------------------------------\u001b[0m",
      "\u001b[1;31mModuleNotFoundError\u001b[0m                       Traceback (most recent call last)",
      "Cell \u001b[1;32mIn[18], line 1\u001b[0m\n\u001b[1;32m----> 1\u001b[0m \u001b[39mfrom\u001b[39;00m \u001b[39mutils\u001b[39;00m \u001b[39mimport\u001b[39;00m matrix_utils\n\u001b[0;32m      3\u001b[0m \u001b[39m# Usage example\u001b[39;00m\n\u001b[0;32m      4\u001b[0m n \u001b[39m=\u001b[39m \u001b[39m3\u001b[39m\n",
      "\u001b[1;31mModuleNotFoundError\u001b[0m: No module named 'utils'"
     ]
    }
   ],
   "source": [
    "from utils import matrix_utils\n",
    "\n",
    "# Usage example\n",
    "n = 3\n",
    "U = matrix_utils.random_unitary_matrix(n)\n",
    "print(U)\n",
    "\n",
    "\n",
    "# Usage example\n",
    "n = 3\n",
    "U = matrix_utils.random_unitary_matrix(n)\n",
    "print(U)"
   ]
  },
  {
   "cell_type": "code",
   "execution_count": 18,
   "metadata": {},
   "outputs": [
    {
     "data": {
      "text/plain": [
       "Result object with sesolve data.\n",
       "--------------------------------\n",
       "expect = True\n",
       "num_expect = 1, num_collapse = 0"
      ]
     },
     "execution_count": 18,
     "metadata": {},
     "output_type": "execute_result"
    }
   ],
   "source": [
    "result"
   ]
  },
  {
   "cell_type": "code",
   "execution_count": 17,
   "metadata": {},
   "outputs": [
    {
     "data": {
      "image/png": "[encoded data removed]",
      "text/plain": [
       "<Figure size 640x480 with 1 Axes>"
      ]
     },
     "metadata": {},
     "output_type": "display_data"
    }
   ],
   "source": [
    "\n",
    "import numpy as np\n",
    "from qutip import mesolve, destroy, basis\n",
    "import matplotlib.pyplot as plt\n",
    "\n",
    "# Parameters\n",
    "omega = 1.0   # oscillator frequency\n",
    "n_levels = 10 # number of Fock states to simulate\n",
    "t = np.linspace(0, 10, 1000) # time vector\n",
    "H = omega * destroy(n_levels).dag() * destroy(n_levels)\n",
    "\n",
    "# Initial state |0>\n",
    "psi0 = basis(n_levels, 0)\n",
    "\n",
    "# Time evolution\n",
    "result = mesolve(H, psi0, t, [], [destroy(n_levels).dag() * destroy(n_levels)])\n",
    "\n",
    "# Visualize the results\n",
    "plt.plot(t, result.expect[0])\n",
    "plt.xlabel('Time')\n",
    "plt.ylabel('Expectation Value')\n",
    "plt.title('Expectation Value of Number Operator')\n",
    "plt.show()\n"
   ]
  },
  {
   "cell_type": "code",
   "execution_count": null,
   "metadata": {},
   "outputs": [],
   "source": []
  }
 ],
 "metadata": {
  "kernelspec": {
   "display_name": "thesis_env",
   "language": "python",
   "name": "python3"
  },
  "language_info": {
   "codemirror_mode": {
    "name": "ipython",
    "version": 3
   },
   "file_extension": ".py",
   "mimetype": "text/x-python",
   "name": "python",
   "nbconvert_exporter": "python",
   "pygments_lexer": "ipython3",
   "version": "3.9.17"
  },
  "orig_nbformat": 4
 },
 "nbformat": 4,
 "nbformat_minor": 2
}
